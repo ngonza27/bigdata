{
 "cells": [
  {
   "cell_type": "code",
   "execution_count": 1,
   "metadata": {},
   "outputs": [
    {
     "data": {
      "application/vnd.jupyter.widget-view+json": {
       "model_id": "281ef7a73efa4d13bb417c82426025be",
       "version_major": 2,
       "version_minor": 0
      },
      "text/plain": [
       "VBox()"
      ]
     },
     "metadata": {},
     "output_type": "display_data"
    },
    {
     "name": "stdout",
     "output_type": "stream",
     "text": [
      "Starting Spark application\n"
     ]
    },
    {
     "data": {
      "text/html": [
       "<table>\n",
       "<tr><th>ID</th><th>YARN Application ID</th><th>Kind</th><th>State</th><th>Spark UI</th><th>Driver log</th><th>Current session?</th></tr><tr><td>0</td><td>application_1607292068599_0002</td><td>pyspark</td><td>idle</td><td><a target=\"_blank\" href=\"http://ip-172-31-2-35.ec2.internal:20888/proxy/application_1607292068599_0002/\">Link</a></td><td><a target=\"_blank\" href=\"http://ip-172-31-2-91.ec2.internal:8042/node/containerlogs/container_1607292068599_0002_01_000001/livy\">Link</a></td><td>✔</td></tr></table>"
      ],
      "text/plain": [
       "<IPython.core.display.HTML object>"
      ]
     },
     "metadata": {},
     "output_type": "display_data"
    },
    {
     "data": {
      "application/vnd.jupyter.widget-view+json": {
       "model_id": "",
       "version_major": 2,
       "version_minor": 0
      },
      "text/plain": [
       "FloatProgress(value=0.0, bar_style='info', description='Progress:', layout=Layout(height='25px', width='50%'),…"
      ]
     },
     "metadata": {},
     "output_type": "display_data"
    },
    {
     "name": "stdout",
     "output_type": "stream",
     "text": [
      "SparkSession available as 'spark'.\n"
     ]
    },
    {
     "data": {
      "application/vnd.jupyter.widget-view+json": {
       "model_id": "",
       "version_major": 2,
       "version_minor": 0
      },
      "text/plain": [
       "FloatProgress(value=0.0, bar_style='info', description='Progress:', layout=Layout(height='25px', width='50%'),…"
      ]
     },
     "metadata": {},
     "output_type": "display_data"
    }
   ],
   "source": [
    "## Validando el funcionamiento de SparkContext\n",
    "spark\n",
    "sc\n",
    "mirdd=sc"
   ]
  },
  {
   "cell_type": "code",
   "execution_count": 2,
   "metadata": {},
   "outputs": [
    {
     "data": {
      "application/vnd.jupyter.widget-view+json": {
       "model_id": "5a6f9ca802944aeabc87378216ffbaf2",
       "version_major": 2,
       "version_minor": 0
      },
      "text/plain": [
       "VBox()"
      ]
     },
     "metadata": {},
     "output_type": "display_data"
    },
    {
     "data": {
      "application/vnd.jupyter.widget-view+json": {
       "model_id": "",
       "version_major": 2,
       "version_minor": 0
      },
      "text/plain": [
       "FloatProgress(value=0.0, bar_style='info', description='Progress:', layout=Layout(height='25px', width='50%'),…"
      ]
     },
     "metadata": {},
     "output_type": "display_data"
    },
    {
     "name": "stdout",
     "output_type": "stream",
     "text": [
      "Sample DataFrame\n",
      "+----------+-----------+-----------+-----------+-----------+-----------+-------+-----+\n",
      "|      Date|       Open|       High|        Low|      Close|  Adj Close| Volume|Stock|\n",
      "+----------+-----------+-----------+-----------+-----------+-----------+-------+-----+\n",
      "|2019-12-02|1301.000000|1305.829956|1281.000000|1289.920044|1289.920044|1510900| GOOG|\n",
      "|2019-12-03|1279.569946|1298.461060|1279.000000|1295.280029|1295.280029|1143800| GOOG|\n",
      "|2019-12-04|1307.010010|1325.800049|1304.869995|1320.540039|1320.540039|1537500| GOOG|\n",
      "|2019-12-05|1328.000000|1329.358032|1316.439941|1328.130005|1328.130005|1212700| GOOG|\n",
      "|2019-12-06|1333.439941|1344.000000|1333.439941|1340.619995|1340.619995|1314800| GOOG|\n",
      "|2019-12-09|1338.040039|1359.449951|1337.839966|1343.560059|1343.560059|1354300| GOOG|\n",
      "|2019-12-10|1341.500000|1349.974976|1336.040039|1344.660034|1344.660034|1094100| GOOG|\n",
      "|2019-12-11|1350.839966|1351.199951|1342.670044|1345.020020|1345.020020| 850400| GOOG|\n",
      "|2019-12-12|1345.939941|1355.775024|1340.500000|1350.270020|1350.270020|1281000| GOOG|\n",
      "|2019-12-13|1347.949951|1353.093018|1343.869995|1347.829956|1347.829956|1549600| GOOG|\n",
      "|2019-12-16|1356.500000|1364.680054|1352.670044|1361.170044|1361.170044|1397300| GOOG|\n",
      "|2019-12-17|1362.890015|1365.000000|1351.322998|1355.119995|1355.119995|1854000| GOOG|\n",
      "|2019-12-18|1356.599976|1360.469971|1351.000000|1352.619995|1352.619995|1522600| GOOG|\n",
      "|2019-12-19|1351.819946|1358.099976|1348.984985|1356.040039|1356.040039|1469900| GOOG|\n",
      "|2019-12-20|1363.349976|1363.640015|1349.000000|1349.589966|1349.589966|3315000| GOOG|\n",
      "|2019-12-23|1355.869995|1359.800049|1346.510010|1348.839966|1348.839966| 883100| GOOG|\n",
      "|2019-12-24|1348.500000|1350.260010|1342.780029|1343.560059|1343.560059| 347500| GOOG|\n",
      "|2019-12-26|1346.170044|1361.327026|1344.469971|1360.400024|1360.400024| 667500| GOOG|\n",
      "|2019-12-27|1362.989990|1364.530029|1349.310059|1351.890015|1351.890015|1038400| GOOG|\n",
      "|2019-12-30|1350.000000|1353.000000|1334.020020|1336.140015|1336.140015|1050900| GOOG|\n",
      "+----------+-----------+-----------+-----------+-----------+-----------+-------+-----+\n",
      "only showing top 20 rows"
     ]
    }
   ],
   "source": [
    "# Libreria que proporicona lit() -> crear una columna con el mismo valor\n",
    "import pyspark.sql.functions as sf\n",
    "\n",
    "## Carga de datos\n",
    "aapl = \"s3://proyecto-big-data/AAPL.csv\"\n",
    "df=spark.read.option(\"header\",\"true\").csv(aapl)\n",
    "df1=df.withColumn(\"Stock\", sf.lit(aapl.split('/')[-1].split('.')[0]))\n",
    "\n",
    "amzn = \"s3://proyecto-big-data/AMZN.csv\"\n",
    "df2=spark.read.option(\"header\",\"true\").csv(amzn)\n",
    "df3=df2.withColumn(\"Stock\", sf.lit(amzn.split('/')[-1].split('.')[0]))\n",
    "\n",
    "fb = \"s3://proyecto-big-data/FB.csv\"\n",
    "df4=spark.read.option(\"header\",\"true\").csv(fb)\n",
    "df5=df4.withColumn(\"Stock\", sf.lit(fb.split('/')[-1].split('.')[0]))\n",
    "\n",
    "goog = \"s3://proyecto-big-data/GOOG.csv\"\n",
    "df6=spark.read.option(\"header\",\"true\").csv(goog)\n",
    "df7=df6.withColumn(\"Stock\", sf.lit(goog.split('/')[-1].split('.')[0]))\n",
    "\n",
    "\n",
    "## Visualizacion del dataset\n",
    "print(\"Sample DataFrame\")\n",
    "df7.show()"
   ]
  },
  {
   "cell_type": "code",
   "execution_count": 13,
   "metadata": {},
   "outputs": [
    {
     "data": {
      "application/vnd.jupyter.widget-view+json": {
       "model_id": "8b414937ba4b4e1ba71ed8557a9bd53c",
       "version_major": 2,
       "version_minor": 0
      },
      "text/plain": [
       "VBox()"
      ]
     },
     "metadata": {},
     "output_type": "display_data"
    },
    {
     "data": {
      "application/vnd.jupyter.widget-view+json": {
       "model_id": "",
       "version_major": 2,
       "version_minor": 0
      },
      "text/plain": [
       "FloatProgress(value=0.0, bar_style='info', description='Progress:', layout=Layout(height='25px', width='50%'),…"
      ]
     },
     "metadata": {},
     "output_type": "display_data"
    },
    {
     "name": "stdout",
     "output_type": "stream",
     "text": [
      "#Filas: 1008  #Columnas: 7\n",
      "Dataset de prueba\n",
      "+----------+---------+---------+---------+---------+---------+-----+\n",
      "|      Date|     Open|     High|      Low|    Close|   Volume|Stock|\n",
      "+----------+---------+---------+---------+---------+---------+-----+\n",
      "|2019-12-02|66.817497|67.062500|65.862503|66.040001| 94487200| AAPL|\n",
      "|2019-12-03|64.577499|64.882500|64.072502|64.862503|114430400| AAPL|\n",
      "|2019-12-04|65.267502|65.827499|65.169998|65.434998| 67181600| AAPL|\n",
      "|2019-12-05|65.947502|66.472504|65.682503|66.394997| 74424400| AAPL|\n",
      "|2019-12-06|66.870003|67.750000|66.824997|67.677498|106075600| AAPL|\n",
      "|2019-12-09|67.500000|67.699997|66.227501|66.730003|128042400| AAPL|\n",
      "|2019-12-10|67.150002|67.517502|66.464996|67.120003| 90420400| AAPL|\n",
      "|2019-12-11|67.202499|67.775002|67.125000|67.692497| 78756800| AAPL|\n",
      "|2019-12-12|66.945000|68.139999|66.830002|67.864998|137310400| AAPL|\n",
      "|2019-12-13|67.864998|68.824997|67.732498|68.787498|133587600| AAPL|\n",
      "|2019-12-16|69.250000|70.197502|69.245003|69.964996|128186000| AAPL|\n",
      "|2019-12-17|69.892502|70.442497|69.699997|70.102501|114158400| AAPL|\n",
      "|2019-12-18|69.949997|70.474998|69.779999|69.934998|116028400| AAPL|\n",
      "|2019-12-19|69.875000|70.294998|69.737503|70.004997| 98369200| AAPL|\n",
      "|2019-12-20|70.557503|70.662498|69.639999|69.860001|275978000| AAPL|\n",
      "|2019-12-23|70.132500|71.062500|70.092499|71.000000| 98572000| AAPL|\n",
      "|2019-12-24|71.172501|71.222504|70.730003|71.067497| 48478800| AAPL|\n",
      "|2019-12-26|71.205002|72.495003|71.175003|72.477501| 93121200| AAPL|\n",
      "|2019-12-27|72.779999|73.492500|72.029999|72.449997|146266000| AAPL|\n",
      "|2019-12-30|72.364998|73.172501|71.305000|72.879997|144114400| AAPL|\n",
      "+----------+---------+---------+---------+---------+---------+-----+\n",
      "only showing top 20 rows\n",
      "\n",
      "root\n",
      " |-- Date: string (nullable = true)\n",
      " |-- Open: string (nullable = true)\n",
      " |-- High: string (nullable = true)\n",
      " |-- Low: string (nullable = true)\n",
      " |-- Close: string (nullable = true)\n",
      " |-- Volume: string (nullable = true)\n",
      " |-- Stock: string (nullable = false)"
     ]
    }
   ],
   "source": [
    "## Union de los dataset\n",
    "df8 = df1.union(df3)\n",
    "df9 = df5.union(df7)\n",
    "df10 = df8.union(df9)\n",
    "\n",
    "## DataFrame final\n",
    "dff = df10.drop('Adj Close')\n",
    "print(\"#Filas:\",dff.count(), \" #Columnas:\", len(dff.columns))\n",
    "print(\"Dataset de prueba\")\n",
    "dff.show()\n",
    "\n",
    "## Esquema del dataframe\n",
    "dff.printSchema()\n",
    "\n",
    "## Exportar datos a s3\n",
    "dff.write.save('s3://proyecto-big-data/stock_data', format='csv', header=True)"
   ]
  },
  {
   "cell_type": "code",
   "execution_count": 4,
   "metadata": {},
   "outputs": [
    {
     "data": {
      "application/vnd.jupyter.widget-view+json": {
       "model_id": "1dac8ecce7a1463bacd8f444cf52a5b5",
       "version_major": 2,
       "version_minor": 0
      },
      "text/plain": [
       "VBox()"
      ]
     },
     "metadata": {},
     "output_type": "display_data"
    },
    {
     "data": {
      "application/vnd.jupyter.widget-view+json": {
       "model_id": "",
       "version_major": 2,
       "version_minor": 0
      },
      "text/plain": [
       "FloatProgress(value=0.0, bar_style='info', description='Progress:', layout=Layout(height='25px', width='50%'),…"
      ]
     },
     "metadata": {},
     "output_type": "display_data"
    },
    {
     "name": "stdout",
     "output_type": "stream",
     "text": [
      "+----------+-----------+-----------+-----------+-----------+---------+-----+\n",
      "|      Date|       Open|       High|        Low|      Close|   Volume|Stock|\n",
      "+----------+-----------+-----------+-----------+-----------+---------+-----+\n",
      "|2020-11-03| 109.660004| 111.489998| 108.730003| 110.440002|107624400| AAPL|\n",
      "|2020-11-04| 114.139999| 115.589996| 112.349998| 114.949997|138235500| AAPL|\n",
      "|2020-11-05| 117.949997| 119.620003| 116.870003| 119.029999|126387100| AAPL|\n",
      "|2020-11-06| 118.320000| 119.199997| 116.129997| 118.690002|114457900| AAPL|\n",
      "|2020-11-10| 115.550003| 117.589996| 114.129997| 115.970001|138023400| AAPL|\n",
      "|2020-11-11| 117.190002| 119.629997| 116.440002| 119.489998|112295000| AAPL|\n",
      "|2020-11-16| 118.919998| 120.989998| 118.150002| 120.300003| 91183000| AAPL|\n",
      "|2020-11-19| 117.589996| 119.059998| 116.809998| 118.639999| 74113000| AAPL|\n",
      "|2020-11-24| 113.910004| 115.849998| 112.589996| 115.169998|113874200| AAPL|\n",
      "|2020-11-25| 115.550003| 116.750000| 115.169998| 116.029999| 76499200| AAPL|\n",
      "|2020-11-27| 116.570000| 117.489998| 116.220001| 116.589996| 46691300| AAPL|\n",
      "|2020-11-30| 116.970001| 120.970001| 116.809998| 119.050003|169410200| AAPL|\n",
      "|2020-11-03|3018.530029|3074.899902|2980.979980|3048.409912|  4897900| AMZN|\n",
      "|2020-11-04|3159.989990|3244.850098|3139.729980|3241.159912|  6839000| AMZN|\n",
      "|2020-11-05|3319.969971|3366.800049|3288.879883|3322.000000|  5789300| AMZN|\n",
      "|2020-11-06|3304.639893|3322.000000|3232.000000|3311.370117|  4647300| AMZN|\n",
      "|2020-11-11|3061.780029|3139.149902|3050.000000|3137.389893|  4366900| AMZN|\n",
      "|2020-11-13|3122.000000|3141.719971|3085.389893|3128.810059|  3756200| AMZN|\n",
      "|2020-11-16|3093.199951|3142.699951|3072.689941|3131.060059|  3808700| AMZN|\n",
      "|2020-11-19|3105.310059|3125.000000|3080.919922|3117.020020|  3010300| AMZN|\n",
      "+----------+-----------+-----------+-----------+-----------+---------+-----+\n",
      "only showing top 20 rows"
     ]
    }
   ],
   "source": [
    "## Dias en los que las acciones ganaron dinero al finalizar el dia a partir del 30 de Octubre, 2020\n",
    "dff.filter(df['Close'] > df['Open']).filter(df['Date'] > '2020-10-30').show()"
   ]
  },
  {
   "cell_type": "code",
   "execution_count": 5,
   "metadata": {},
   "outputs": [
    {
     "data": {
      "application/vnd.jupyter.widget-view+json": {
       "model_id": "8c8cf43fd9ce45eeb718e22b458400fc",
       "version_major": 2,
       "version_minor": 0
      },
      "text/plain": [
       "VBox()"
      ]
     },
     "metadata": {},
     "output_type": "display_data"
    },
    {
     "data": {
      "application/vnd.jupyter.widget-view+json": {
       "model_id": "",
       "version_major": 2,
       "version_minor": 0
      },
      "text/plain": [
       "FloatProgress(value=0.0, bar_style='info', description='Progress:', layout=Layout(height='25px', width='50%'),…"
      ]
     },
     "metadata": {},
     "output_type": "display_data"
    },
    {
     "name": "stdout",
     "output_type": "stream",
     "text": [
      "+-----+-----------+\n",
      "|Stock|  max(High)|\n",
      "+-----+-----------+\n",
      "| AAPL|  99.955002|\n",
      "| GOOG|1818.060059|\n",
      "|   FB| 304.670013|\n",
      "| AMZN|3552.250000|\n",
      "+-----+-----------+"
     ]
    }
   ],
   "source": [
    "## Precio mas alto de una accion\n",
    "dff.groupBy('Stock').agg({'High': 'max'}).show()"
   ]
  },
  {
   "cell_type": "code",
   "execution_count": 6,
   "metadata": {},
   "outputs": [
    {
     "data": {
      "application/vnd.jupyter.widget-view+json": {
       "model_id": "bc15908c8ec44f86a47e797a8e84ad5e",
       "version_major": 2,
       "version_minor": 0
      },
      "text/plain": [
       "VBox()"
      ]
     },
     "metadata": {},
     "output_type": "display_data"
    },
    {
     "data": {
      "application/vnd.jupyter.widget-view+json": {
       "model_id": "",
       "version_major": 2,
       "version_minor": 0
      },
      "text/plain": [
       "FloatProgress(value=0.0, bar_style='info', description='Progress:', layout=Layout(height='25px', width='50%'),…"
      ]
     },
     "metadata": {},
     "output_type": "display_data"
    },
    {
     "name": "stdout",
     "output_type": "stream",
     "text": [
      "+-----+------------------+\n",
      "|Stock|     max(Max Gain)|\n",
      "+-----+------------------+\n",
      "| AAPL|5.5400009999999895|\n",
      "| GOOG| 61.82995600000004|\n",
      "|   FB|19.910004000000015|\n",
      "| AMZN|196.64013699999987|\n",
      "+-----+------------------+"
     ]
    }
   ],
   "source": [
    "## Mayor ganancia de la accion en un dia\n",
    "from pyspark.sql.functions import max\n",
    "\n",
    "dff.withColumn('Max Gain', df['Close'] - df['Open'] ).groupBy('Stock').max(\"Max Gain\").show()"
   ]
  },
  {
   "cell_type": "code",
   "execution_count": 7,
   "metadata": {},
   "outputs": [
    {
     "data": {
      "application/vnd.jupyter.widget-view+json": {
       "model_id": "6e739a96d62247d392b1af86ee45ee59",
       "version_major": 2,
       "version_minor": 0
      },
      "text/plain": [
       "VBox()"
      ]
     },
     "metadata": {},
     "output_type": "display_data"
    },
    {
     "data": {
      "application/vnd.jupyter.widget-view+json": {
       "model_id": "",
       "version_major": 2,
       "version_minor": 0
      },
      "text/plain": [
       "FloatProgress(value=0.0, bar_style='info', description='Progress:', layout=Layout(height='25px', width='50%'),…"
      ]
     },
     "metadata": {},
     "output_type": "display_data"
    },
    {
     "name": "stdout",
     "output_type": "stream",
     "text": [
      "+-----+------------+\n",
      "|Stock|max(Volumen)|\n",
      "+-----+------------+\n",
      "| AAPL|  4.268848E8|\n",
      "| GOOG|   4329100.0|\n",
      "|   FB| 7.6343904E7|\n",
      "| AMZN|   1.55673E7|\n",
      "+-----+------------+"
     ]
    }
   ],
   "source": [
    "## Mayor numero de transacciones en un dia\n",
    "from pyspark.sql.functions import max\n",
    "\n",
    "dfMaxVolume = dff.withColumn(\"Volumen\", df['Volume'].cast('float')).drop('Volume')\n",
    "dfMaxVolume.groupBy('Stock').max('Volumen').show()"
   ]
  }
 ],
 "metadata": {
  "kernelspec": {
   "display_name": "PySpark",
   "language": "",
   "name": "pysparkkernel"
  },
  "language_info": {
   "codemirror_mode": {
    "name": "python",
    "version": 2
   },
   "mimetype": "text/x-python",
   "name": "pyspark",
   "pygments_lexer": "python2"
  }
 },
 "nbformat": 4,
 "nbformat_minor": 4
}
